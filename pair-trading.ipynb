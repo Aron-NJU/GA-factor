{
 "cells": [
  {
   "cell_type": "code",
   "execution_count": 6,
   "metadata": {},
   "outputs": [
    {
     "name": "stdout",
     "output_type": "stream",
     "text": [
      "Defaulting to user installation because normal site-packages is not writeable\n",
      "Requirement already satisfied: geatpy==2.7.0 in c:\\users\\你好\\appdata\\roaming\\python\\python310\\site-packages (2.7.0)\n",
      "Requirement already satisfied: numpy>=1.17.0 in d:\\anaconda\\envs\\ml\\lib\\site-packages (from geatpy==2.7.0) (1.25.0)\n",
      "Requirement already satisfied: matplotlib>=3.0.0 in d:\\anaconda\\envs\\ml\\lib\\site-packages (from geatpy==2.7.0) (3.7.1)\n",
      "Requirement already satisfied: contourpy>=1.0.1 in d:\\anaconda\\envs\\ml\\lib\\site-packages (from matplotlib>=3.0.0->geatpy==2.7.0) (1.0.5)\n",
      "Requirement already satisfied: cycler>=0.10 in d:\\anaconda\\envs\\ml\\lib\\site-packages (from matplotlib>=3.0.0->geatpy==2.7.0) (0.11.0)\n",
      "Requirement already satisfied: fonttools>=4.22.0 in d:\\anaconda\\envs\\ml\\lib\\site-packages (from matplotlib>=3.0.0->geatpy==2.7.0) (4.25.0)\n",
      "Requirement already satisfied: kiwisolver>=1.0.1 in d:\\anaconda\\envs\\ml\\lib\\site-packages (from matplotlib>=3.0.0->geatpy==2.7.0) (1.4.4)\n",
      "Requirement already satisfied: packaging>=20.0 in d:\\anaconda\\envs\\ml\\lib\\site-packages (from matplotlib>=3.0.0->geatpy==2.7.0) (23.1)\n",
      "Requirement already satisfied: pillow>=6.2.0 in d:\\anaconda\\envs\\ml\\lib\\site-packages (from matplotlib>=3.0.0->geatpy==2.7.0) (9.4.0)\n",
      "Requirement already satisfied: pyparsing>=2.3.1 in d:\\anaconda\\envs\\ml\\lib\\site-packages (from matplotlib>=3.0.0->geatpy==2.7.0) (3.0.9)\n",
      "Requirement already satisfied: python-dateutil>=2.7 in d:\\anaconda\\envs\\ml\\lib\\site-packages (from matplotlib>=3.0.0->geatpy==2.7.0) (2.8.2)\n",
      "Requirement already satisfied: six>=1.5 in d:\\anaconda\\envs\\ml\\lib\\site-packages (from python-dateutil>=2.7->matplotlib>=3.0.0->geatpy==2.7.0) (1.16.0)\n",
      "Note: you may need to restart the kernel to use updated packages.\n"
     ]
    }
   ],
   "source": [
    "%pip install geatpy==2.7.0"
   ]
  },
  {
   "cell_type": "code",
   "execution_count": 13,
   "metadata": {},
   "outputs": [
    {
     "name": "stdout",
     "output_type": "stream",
     "text": [
      "Defaulting to user installation because normal site-packages is not writeable\n",
      "Collecting baostock\n",
      "  Downloading baostock-0.8.8-py3-none-any.whl (55 kB)\n",
      "     ---------------------------------------- 0.0/55.2 kB ? eta -:--:--\n",
      "     ---------------------------------------- 0.0/55.2 kB ? eta -:--:--\n",
      "     ------- -------------------------------- 10.2/55.2 kB ? eta -:--:--\n",
      "     ---------------------------- --------- 41.0/55.2 kB 991.0 kB/s eta 0:00:01\n",
      "     ---------------------------- --------- 41.0/55.2 kB 991.0 kB/s eta 0:00:01\n",
      "     ---------------------------- --------- 41.0/55.2 kB 991.0 kB/s eta 0:00:01\n",
      "     -------------------------------------- 55.2/55.2 kB 221.7 kB/s eta 0:00:00\n",
      "Requirement already satisfied: pandas>=0.18.0 in d:\\anaconda\\envs\\ml\\lib\\site-packages (from baostock) (2.0.3)\n",
      "Requirement already satisfied: python-dateutil>=2.8.2 in d:\\anaconda\\envs\\ml\\lib\\site-packages (from pandas>=0.18.0->baostock) (2.8.2)\n",
      "Requirement already satisfied: pytz>=2020.1 in d:\\anaconda\\envs\\ml\\lib\\site-packages (from pandas>=0.18.0->baostock) (2022.7)\n",
      "Requirement already satisfied: tzdata>=2022.1 in d:\\anaconda\\envs\\ml\\lib\\site-packages (from pandas>=0.18.0->baostock) (2023.3)\n",
      "Requirement already satisfied: numpy>=1.21.0 in d:\\anaconda\\envs\\ml\\lib\\site-packages (from pandas>=0.18.0->baostock) (1.25.0)\n",
      "Requirement already satisfied: six>=1.5 in d:\\anaconda\\envs\\ml\\lib\\site-packages (from python-dateutil>=2.8.2->pandas>=0.18.0->baostock) (1.16.0)\n",
      "Installing collected packages: baostock\n",
      "Successfully installed baostock-0.8.8\n",
      "Note: you may need to restart the kernel to use updated packages.\n"
     ]
    }
   ],
   "source": [
    "%pip install baostock"
   ]
  },
  {
   "cell_type": "code",
   "execution_count": 2,
   "metadata": {},
   "outputs": [
    {
     "name": "stdout",
     "output_type": "stream",
     "text": [
      "login success!\n"
     ]
    }
   ],
   "source": [
    "import baostock as bs\n",
    "\n",
    "bs.login()\n",
    "\n",
    "huaxia_stock = bs.query_history_k_data_plus(\"sz.002928\",\n",
    "\"date,close\",\n",
    "start_date='2019-07-01', end_date='2023-07-31',\n",
    "frequency=\"d\", adjustflag=\"3\")\n",
    "\n",
    "chunqiu_stock = bs.query_history_k_data_plus(\"sh.601021\",\n",
    "\"date,close\",\n",
    "start_date='2019-07-01', end_date='2023-07-31',\n",
    "frequency=\"d\", adjustflag=\"3\")\n",
    "\n",
    "jixiang_stock = bs.query_history_k_data_plus(\"sh.603885\",\n",
    "\"date,close\",\n",
    "start_date='2019-07-01', end_date='2023-07-31',\n",
    "frequency=\"d\", adjustflag=\"3\")\n",
    "\n",
    "zhguo_stock = bs.query_history_k_data_plus(\"sh.601111\",\n",
    "\"date,close\",\n",
    "start_date='2019-07-01', end_date='2023-07-31',\n",
    "frequency=\"d\", adjustflag=\"3\")"
   ]
  },
  {
   "cell_type": "code",
   "execution_count": 11,
   "metadata": {},
   "outputs": [],
   "source": [
    "import geatpy as ea\n",
    "import numpy as np\n",
    "import pandas as pd\n",
    "import matplotlib.pyplot as plt\n",
    "\n",
    "# 自定义问题类，多参数的优化问题\n",
    "class MyProblem(ea.Problem): # 继承Problem父类\n",
    "    def __init__(self):\n",
    "        self.name = 'PairTrading' # 初始化name（函数名称，可以随意设置）\n",
    "        self.Dim = 7 # 初始化Dim（决策变量维数）\n",
    "        self.maxormins = 1 # 初始化maxormins（目标最小最大化标记列表，1：最小化该目标；-1：最大化该目标）\n",
    "        self.M = 1 # 初始化M（目标维数）\n",
    "        self.varTypes = [1, 0, 0, 0, 0, 0, 0] # 除了第一个是代表布林带均值计算的MA的n值，其余都是0，代表连续变量\n",
    "        self.lb = [1, 0.1, 0.1, 0, 0, 0, 0] # 决策变量下界\n",
    "        self.ub = [100, 3, 3, 1, 1, 1, 1] # MA的n值上界为100，布林带上下标准差数量上界为3，其余都是1\n",
    "        self.ReconbinOpt = 'xovdp'\n",
    "        self.borders = np.array([[1] * self.Dim,[1]*self.Dim]) # 生成区域描述器，这里是两个长度为Dim的列表，列表中的元素都是1\n",
    "        self.mutStyle = 'mutg'  # 使用高斯变异\n",
    "\n",
    "    def aimFunc(self, pop):\n",
    "        return super().aimFunc(pop) # 调用父类的aimFunc方法求解目标函数,pop为传入的种群对象\n"
   ]
  },
  {
   "cell_type": "code",
   "execution_count": 12,
   "metadata": {},
   "outputs": [
    {
     "name": "stderr",
     "output_type": "stream",
     "text": [
      "C:\\Windows\\Temp\\ipykernel_2112\\1475093848.py:6: DeprecationWarning: Calling nonzero on 0d arrays is deprecated, as it behaves surprisingly. Use `atleast_1d(cond).nonzero()` if the old behavior was intended. If the context of this warning is of the form `arr[nonzero(cond)]`, just use `arr[cond]`.\n",
      "  Field = ea.crtfld(Encoding, problem.varTypes, problem.borders)\n"
     ]
    }
   ],
   "source": [
    "# 实例化问题对象\n",
    "problem = MyProblem()\n",
    "# 实例化种群对象（此时种群还没被初始化，仅仅是完成了种群对象的实例化）\n",
    "Encoding = 'RI'       # 编码方式 \n",
    "NIND = 100             # 种群规模\n",
    "Field = ea.crtfld(Encoding, problem.varTypes, problem.borders)\n",
    "population = ea.Population(Encoding, Field, NIND) # 实例化种群对象\n",
    "# 调用编程模板(传入种群对象population，设置参数maxormins和problem)\n",
    "algorithm = ea.soea_SEGA_templet(problem, population, MAXGEN=50, FINITPOP=100) # finitpop为初始种群规模\n",
    "# 自定义交叉、变异、选择算子\n",
    "algorithm.mutOper.Pm = 0.1 # 设置变异概率\n",
    "algorithm.recOper.XOVR = 0.8 # 设置交叉概率\n",
    "algorithm.selFunc = 'tour' # 设置选择算子"
   ]
  },
  {
   "cell_type": "code",
   "execution_count": null,
   "metadata": {},
   "outputs": [],
   "source": [
    "# 运行\n",
    "[population, obj_trace, var_trace] = algorithm.run() # 执行算法模板，得到最后一代种群以及进化记录器"
   ]
  }
 ],
 "metadata": {
  "kernelspec": {
   "display_name": "ML",
   "language": "python",
   "name": "python3"
  },
  "language_info": {
   "codemirror_mode": {
    "name": "ipython",
    "version": 3
   },
   "file_extension": ".py",
   "mimetype": "text/x-python",
   "name": "python",
   "nbconvert_exporter": "python",
   "pygments_lexer": "ipython3",
   "version": "3.10.12"
  },
  "orig_nbformat": 4
 },
 "nbformat": 4,
 "nbformat_minor": 2
}
